{
  "cells": [
    {
      "cell_type": "markdown",
      "metadata": {
        "id": "view-in-github",
        "colab_type": "text"
      },
      "source": [
        "<a href=\"https://colab.research.google.com/github/chandana-nukala18/fifth-repo/blob/main/chatapplication.ipynb\" target=\"_parent\"><img src=\"https://colab.research.google.com/assets/colab-badge.svg\" alt=\"Open In Colab\"/></a>"
      ]
    },
    {
      "cell_type": "markdown",
      "metadata": {
        "id": "rRSs20SHzC4s"
      },
      "source": [
        "server user A"
      ]
    },
    {
      "cell_type": "code",
      "execution_count": null,
      "metadata": {
        "colab": {
          "background_save": true,
          "base_uri": "https://localhost:8080/"
        },
        "id": "I9Wm8-PT_H8D",
        "outputId": "02a08455-a733-4fb2-fd7e-58ee2c555429"
      },
      "outputs": [
        {
          "metadata": {
            "tags": null
          },
          "name": "stdout",
          "output_type": "stream",
          "text": [
            "Welcome to the Simulated Chat App!\n",
            "\n",
            "srihan reddy says: hi \n",
            "samanth reddy says: hlo\n",
            "srihan reddy says: what are you doing?\n",
            "samanth reddy says: i am playing, and you?\n"
          ]
        }
      ],
      "source": [
        "def chat():\n",
        "    print(\"Welcome to the simulated chat App!\\n\")\n",
        "    user1 = input(\"Enter name for User 1: \")\n",
        "    User2 = input(\"Enter name for User 2: \")\n",
        "\n",
        "    turn = 0\n",
        "    while True:\n",
        "        if turn % 2 == 0:\n",
        "            msg = input(f\"{user1}: \")\n",
        "            if msg.lower() == \"exit\":\n",
        "                print(\"Chat ended.\")\n",
        "                break\n",
        "            print(f\"{user1} says: {msg}\")\n",
        "        else:\n",
        "            msg = input(f\"{user2}:\")\n",
        "            if msg.lower() == \"exit\":\n",
        "                print(\"chat ended.\")\n",
        "                break\n",
        "             print(f\"{user2} says: {msg}\")\n",
        "          turn += 1\n",
        "chat()\n"
      ]
    }
  ],
  "metadata": {
    "colab": {
      "provenance": [],
      "authorship_tag": "ABX9TyPzUz++adO1CcoixEtmaKjp",
      "include_colab_link": true
    },
    "kernelspec": {
      "display_name": "Python 3",
      "name": "python3"
    },
    "language_info": {
      "name": "python"
    }
  },
  "nbformat": 4,
  "nbformat_minor": 0
}